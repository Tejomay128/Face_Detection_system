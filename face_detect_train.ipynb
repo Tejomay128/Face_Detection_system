{
 "cells": [
  {
   "cell_type": "code",
   "execution_count": 1,
   "metadata": {},
   "outputs": [],
   "source": [
    "from PIL import Image\n",
    "import matplotlib.pyplot as plt\n",
    "import numpy as np\n",
    "from sklearn.model_selection import train_test_split\n",
    "from sklearn.utils import shuffle"
   ]
  },
  {
   "cell_type": "code",
   "execution_count": 2,
   "metadata": {},
   "outputs": [],
   "source": [
    "def read_img(path):\n",
    "    img = Image.open(path)\n",
    "    img = img.resize((128,128))\n",
    "#     img.show()\n",
    "    img_data = np.asarray(img)\n",
    "    return img_data\n"
   ]
  },
  {
   "cell_type": "code",
   "execution_count": 3,
   "metadata": {},
   "outputs": [
    {
     "name": "stdout",
     "output_type": "stream",
     "text": [
      "(128, 128)\n",
      "(64, 64)\n"
     ]
    }
   ],
   "source": [
    "img = read_img(\"face_detect_dataset\\\\s1\\\\1.pgm\")\n",
    "print(img.shape)\n",
    "img = img[::2,::2]\n",
    "print(img.shape)"
   ]
  },
  {
   "cell_type": "code",
   "execution_count": 4,
   "metadata": {},
   "outputs": [],
   "source": [
    "def get_data(sample_size):\n",
    "    img = read_img(\"face_detect_dataset\\\\s1\\\\1.pgm\")\n",
    "    img = img[::2,::2]\n",
    "    dim1 = img.shape[0]\n",
    "    dim2 = img.shape[1]\n",
    "    count = 0\n",
    "    img_pairs_same = np.zeros([sample_size,2,dim1,dim2,1])\n",
    "    img_labels_same = np.zeros([sample_size,1])\n",
    "    \n",
    "    for i in range(40):\n",
    "        for j in range(sample_size//40):\n",
    "            ind1 = 0\n",
    "            ind2 = 0\n",
    "            while(ind1 == ind2):\n",
    "                ind1 = np.random.randint(10)\n",
    "                ind2 = np.random.randint(10)\n",
    "            img1 = read_img(\"face_detect_dataset\\\\s\" + str(i+1) + \"\\\\\" + str(ind1+1) + \".pgm\")\n",
    "            img2 = read_img(\"face_detect_dataset\\\\s\" + str(i+1) + \"\\\\\" + str(ind2+1) + \".pgm\")\n",
    "            img1 = img1[::2,::2]\n",
    "            img2 = img2[::2,::2]\n",
    "            img_pairs_same[count,0,:,:,0] = img1\n",
    "            img_pairs_same[count,1,:,:,0] = img2\n",
    "            img_labels_same[count] = 1\n",
    "            count = count+1\n",
    "            \n",
    "    count = 0\n",
    "    img_pairs_diff = np.zeros([sample_size,2,dim1,dim2,1])\n",
    "    img_labels_diff = np.zeros([sample_size,1])\n",
    "    \n",
    "    for i in range(sample_size//10):\n",
    "        for j in range(10):\n",
    "            ind1 = 0\n",
    "            ind2 = 0\n",
    "            while(ind1 == ind2):\n",
    "                ind1 = np.random.randint(40)\n",
    "                ind2 = np.random.randint(40)\n",
    "            img1 = read_img(\"face_detect_dataset\\\\s\" + str(ind1+1) + \"\\\\\" + str(j+1) + \".pgm\")\n",
    "            img2 = read_img(\"face_detect_dataset\\\\s\" + str(ind2+1) + \"\\\\\" + str(j+1) + \".pgm\")\n",
    "            img1 = img1[::2,::2]\n",
    "            img2 = img2[::2,::2]\n",
    "            img_pairs_diff[count,0,:,:,0] = img1\n",
    "            img_pairs_diff[count,1,:,:,0] = img2\n",
    "            img_labels_diff[count] = 0;\n",
    "            count = count + 1\n",
    "            \n",
    "    X = np.concatenate([img_pairs_same,img_pairs_diff],axis = 0)/255\n",
    "    Y = np.concatenate([img_labels_same,img_labels_diff],axis = 0)\n",
    "    \n",
    "    return X,Y"
   ]
  },
  {
   "cell_type": "code",
   "execution_count": 5,
   "metadata": {},
   "outputs": [
    {
     "name": "stdout",
     "output_type": "stream",
     "text": [
      "(20000, 2, 64, 64, 1)\n",
      "(20000, 1)\n"
     ]
    }
   ],
   "source": [
    "sample_size = 10000\n",
    "X,Y = get_data(sample_size)\n",
    "X,Y = shuffle(X,Y)\n",
    "print(X.shape)\n",
    "print(Y.shape)"
   ]
  },
  {
   "cell_type": "code",
   "execution_count": 6,
   "metadata": {},
   "outputs": [
    {
     "name": "stdout",
     "output_type": "stream",
     "text": [
      "[0.]\n",
      "[0.]\n",
      "[1.]\n",
      "[1.]\n",
      "(16000, 2, 64, 64, 1)\n",
      "(16000, 1)\n"
     ]
    }
   ],
   "source": [
    "print(Y[0])\n",
    "print(Y[1])\n",
    "print(Y[2])\n",
    "print(Y[3])\n",
    "img_train,img_test,label_train,label_test = train_test_split(X,Y,test_size = .20)\n",
    "print(img_train.shape)\n",
    "print(label_train.shape)"
   ]
  },
  {
   "cell_type": "code",
   "execution_count": 7,
   "metadata": {},
   "outputs": [],
   "source": [
    "from tensorflow.keras.layers import Dense,Conv2D,Flatten,MaxPooling2D,Dropout,Input,Lambda\n",
    "from tensorflow.keras.models import Sequential,Model\n",
    "from tensorflow.keras.optimizers import Adam\n",
    "import tensorflow.keras.backend as K "
   ]
  },
  {
   "cell_type": "code",
   "execution_count": 8,
   "metadata": {},
   "outputs": [],
   "source": [
    "def build_convNet(input_shape):\n",
    "    model = Sequential([\n",
    "        Conv2D(16,(3,3),input_shape = input_shape,activation = \"relu\",name = \"conv_1\"),\n",
    "        MaxPooling2D((3,3),name = \"maxpool_1\"),\n",
    "#         Dropout(.10),\n",
    "        Conv2D(32,(3,3),activation = \"relu\",name = \"conv_2\"),\n",
    "        MaxPooling2D((3,3),name = \"maxpool_2\"),\n",
    "#         Dropout(.10),\n",
    "        Flatten(),\n",
    "        Dense(128,activation = \"relu\")\n",
    "    ])\n",
    "    return model"
   ]
  },
  {
   "cell_type": "code",
   "execution_count": 9,
   "metadata": {},
   "outputs": [
    {
     "name": "stdout",
     "output_type": "stream",
     "text": [
      "Model: \"sequential\"\n",
      "_________________________________________________________________\n",
      "Layer (type)                 Output Shape              Param #   \n",
      "=================================================================\n",
      "conv_1 (Conv2D)              (None, 62, 62, 16)        160       \n",
      "_________________________________________________________________\n",
      "maxpool_1 (MaxPooling2D)     (None, 20, 20, 16)        0         \n",
      "_________________________________________________________________\n",
      "conv_2 (Conv2D)              (None, 18, 18, 32)        4640      \n",
      "_________________________________________________________________\n",
      "maxpool_2 (MaxPooling2D)     (None, 6, 6, 32)          0         \n",
      "_________________________________________________________________\n",
      "flatten (Flatten)            (None, 1152)              0         \n",
      "_________________________________________________________________\n",
      "dense (Dense)                (None, 128)               147584    \n",
      "=================================================================\n",
      "Total params: 152,384\n",
      "Trainable params: 152,384\n",
      "Non-trainable params: 0\n",
      "_________________________________________________________________\n"
     ]
    }
   ],
   "source": [
    "input_shape = (64,64,1)\n",
    "img_a = Input(shape = input_shape)\n",
    "img_b = Input(shape = input_shape)\n",
    "convNet = build_convNet(input_shape)\n",
    "convNet.summary()"
   ]
  },
  {
   "cell_type": "code",
   "execution_count": 10,
   "metadata": {},
   "outputs": [],
   "source": [
    "encode_a = convNet(img_a)\n",
    "encode_b = convNet(img_b)"
   ]
  },
  {
   "cell_type": "code",
   "execution_count": 11,
   "metadata": {},
   "outputs": [],
   "source": [
    "def dist(encodings):\n",
    "    a,b = encodings\n",
    "    d = K.sqrt(K.sum(K.square(a - b),axis = 1,keepdims = True))\n",
    "    return d\n",
    "\n",
    "def dist_out_shape(shapes):\n",
    "#     shape1,shape2 = shapes\n",
    "    return (shapes[0],1)\n",
    "\n",
    "distance = Lambda(dist,output_shape = dist_out_shape)([encode_a,encode_b])"
   ]
  },
  {
   "cell_type": "code",
   "execution_count": 12,
   "metadata": {},
   "outputs": [],
   "source": [
    "epochs = 16\n",
    "optim = Adam(learning_rate = 0.001)\n",
    "model = Model(inputs = [img_a,img_b],outputs = distance)"
   ]
  },
  {
   "cell_type": "code",
   "execution_count": 13,
   "metadata": {},
   "outputs": [],
   "source": [
    "def loss_fn(y_true,y_pred):\n",
    "    margin = 0.7\n",
    "    return K.mean(y_true*K.square(y_pred) + (1-y_true)*K.square(K.maximum(margin-y_pred,0)))"
   ]
  },
  {
   "cell_type": "code",
   "execution_count": 14,
   "metadata": {},
   "outputs": [],
   "source": [
    "model.compile(loss = loss_fn,optimizer = optim)"
   ]
  },
  {
   "cell_type": "code",
   "execution_count": 15,
   "metadata": {},
   "outputs": [
    {
     "name": "stdout",
     "output_type": "stream",
     "text": [
      "Epoch 1/16\n",
      "188/188 - 7s - loss: 0.0297 - val_loss: 0.0114\n",
      "Epoch 2/16\n",
      "188/188 - 6s - loss: 0.0066 - val_loss: 0.0036\n",
      "Epoch 3/16\n",
      "188/188 - 6s - loss: 0.0023 - val_loss: 0.0013\n",
      "Epoch 4/16\n",
      "188/188 - 6s - loss: 8.4997e-04 - val_loss: 5.1969e-04\n",
      "Epoch 5/16\n",
      "188/188 - 6s - loss: 3.4137e-04 - val_loss: 1.9878e-04\n",
      "Epoch 6/16\n",
      "188/188 - 6s - loss: 1.5006e-04 - val_loss: 8.6823e-05\n",
      "Epoch 7/16\n",
      "188/188 - 6s - loss: 7.3850e-05 - val_loss: 5.4562e-05\n",
      "Epoch 8/16\n",
      "188/188 - 6s - loss: 4.2101e-05 - val_loss: 3.0373e-05\n",
      "Epoch 9/16\n",
      "188/188 - 6s - loss: 2.3432e-05 - val_loss: 1.3817e-05\n",
      "Epoch 10/16\n",
      "188/188 - 6s - loss: 1.7983e-05 - val_loss: 3.5404e-05\n",
      "Epoch 11/16\n",
      "188/188 - 6s - loss: 3.7263e-05 - val_loss: 5.2408e-05\n",
      "Epoch 12/16\n",
      "188/188 - 6s - loss: 1.1785e-04 - val_loss: 1.8241e-04\n",
      "Epoch 13/16\n",
      "188/188 - 6s - loss: 2.0020e-04 - val_loss: 1.9957e-04\n",
      "Epoch 14/16\n",
      "188/188 - 6s - loss: 3.5355e-04 - val_loss: 2.9319e-04\n",
      "Epoch 15/16\n",
      "188/188 - 6s - loss: 2.2310e-04 - val_loss: 1.6212e-04\n",
      "Epoch 16/16\n",
      "188/188 - 6s - loss: 1.5612e-04 - val_loss: 1.7718e-04\n"
     ]
    }
   ],
   "source": [
    "img_1 = img_train[:,0]\n",
    "img_2 = img_train[:,1]\n",
    "history = model.fit([img_1,img_2],label_train,validation_split = 0.25,batch_size = 64,epochs = epochs,verbose = 2)"
   ]
  },
  {
   "cell_type": "code",
   "execution_count": 16,
   "metadata": {},
   "outputs": [
    {
     "name": "stdout",
     "output_type": "stream",
     "text": [
      "[[0.00952098]\n",
      " [0.9149962 ]\n",
      " [0.01723276]\n",
      " ...\n",
      " [0.95597595]\n",
      " [0.9075877 ]\n",
      " [0.01077801]]\n"
     ]
    }
   ],
   "source": [
    "pred = model.predict([img_test[:,0], img_test[:,1]])\n",
    "print(pred)"
   ]
  },
  {
   "cell_type": "code",
   "execution_count": 17,
   "metadata": {},
   "outputs": [],
   "source": [
    "def get_accuracy(pred,labels,threshold):\n",
    "    return labels[pred.ravel() < threshold].mean()"
   ]
  },
  {
   "cell_type": "code",
   "execution_count": 18,
   "metadata": {},
   "outputs": [
    {
     "data": {
      "text/plain": [
       "1.0"
      ]
     },
     "execution_count": 18,
     "metadata": {},
     "output_type": "execute_result"
    }
   ],
   "source": [
    "get_accuracy(pred, label_test,0.5)"
   ]
  },
  {
   "cell_type": "code",
   "execution_count": 19,
   "metadata": {},
   "outputs": [
    {
     "data": {
      "image/png": "[encoded data removed]",
      "text/plain": [
       "<Figure size 432x288 with 1 Axes>"
      ]
     },
     "metadata": {
      "needs_background": "light"
     },
     "output_type": "display_data"
    }
   ],
   "source": [
    "plt.plot(history.history[\"loss\"])\n",
    "plt.plot(history.history[\"val_loss\"])\n",
    "plt.ylabel(\"loss\")\n",
    "plt.xlabel(\"epochs\")\n",
    "plt.legend([\"training\",\"validation\"],loc = \"upper right\")\n",
    "plt.show()"
   ]
  },
  {
   "cell_type": "code",
   "execution_count": 20,
   "metadata": {},
   "outputs": [],
   "source": [
    "from tensorflow.keras.models import save_model"
   ]
  },
  {
   "cell_type": "code",
   "execution_count": 21,
   "metadata": {},
   "outputs": [],
   "source": [
    "model.save(\"saved_model_2.h5\")"
   ]
  },
  {
   "cell_type": "code",
   "execution_count": 22,
   "metadata": {},
   "outputs": [],
   "source": [
    "from PIL import ImageOps"
   ]
  },
  {
   "cell_type": "code",
   "execution_count": 29,
   "metadata": {},
   "outputs": [
    {
     "name": "stdout",
     "output_type": "stream",
     "text": [
      "[[0.44431096]]\n"
     ]
    }
   ],
   "source": [
    "myimg1 = Image.open(\"Downloads\\\\mom2.jpeg\")\n",
    "myimg2 = Image.open(\"Downloads\\\\mom3.jpeg\")\n",
    "myimg1 = ImageOps.grayscale(myimg1)\n",
    "myimg2 = ImageOps.grayscale(myimg2)\n",
    "myimg1 = myimg1.resize((64,64))\n",
    "myimg2 = myimg2.resize((64,64))\n",
    "inp_a = np.asarray(myimg1)/255\n",
    "inp_b = np.asarray(myimg2)/255\n",
    "myimg1.show()\n",
    "myimg2.show()\n",
    "pred = model.predict([inp_a[np.newaxis,...,np.newaxis], inp_b[np.newaxis,...,np.newaxis]])\n",
    "print(pred)"
   ]
  },
  {
   "cell_type": "code",
   "execution_count": null,
   "metadata": {},
   "outputs": [],
   "source": []
  }
 ],
 "metadata": {
  "kernelspec": {
   "display_name": "Python 3",
   "language": "python",
   "name": "python3"
  },
  "language_info": {
   "codemirror_mode": {
    "name": "ipython",
    "version": 3
   },
   "file_extension": ".py",
   "mimetype": "text/x-python",
   "name": "python",
   "nbconvert_exporter": "python",
   "pygments_lexer": "ipython3",
   "version": "3.7.6"
  }
 },
 "nbformat": 4,
 "nbformat_minor": 4
}
